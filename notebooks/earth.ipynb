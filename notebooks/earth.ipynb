{
 "cells": [
  {
   "cell_type": "code",
   "execution_count": 1,
   "metadata": {},
   "outputs": [
    {
     "data": {
      "application/vnd.jupyter.widget-view+json": {
       "model_id": "52918d0e7b914f91a80d29cc3eb074b8",
       "version_major": 2,
       "version_minor": 0
      },
      "text/plain": [
       "VBox(children=(Renderer(camera=PerspectiveCamera(fov=45.0, position=(0.0, 0.0, 3.0), projectionMatrix=(1.0, 0.…"
      ]
     },
     "metadata": {},
     "output_type": "display_data"
    }
   ],
   "source": [
    "import pythreejs as p3\n",
    "from IPython.display import display\n",
    "from ipywidgets import VBox\n",
    "from PIL import Image\n",
    "import numpy as np\n",
    "import math\n",
    "\n",
    "image_path = \"../statics/earth_texture.jpg\"\n",
    "img = Image.open(image_path)\n",
    "img_data = np.asarray(img)\n",
    "\n",
    "if img_data.shape[2] == 4:\n",
    "    img_data = img_data[:, :, :3]\n",
    "\n",
    "earth_texture = p3.DataTexture(data=img_data, format='RGBFormat', type='UnsignedByteType')\n",
    "\n",
    "scene = p3.Scene()\n",
    "camera = p3.PerspectiveCamera(position=[0, 0, 3], fov=45)\n",
    "controls = p3.OrbitControls(controlling=camera)\n",
    "ambient_light = p3.AmbientLight(intensity=0.5)\n",
    "directional_light = p3.DirectionalLight(position=[3, 5, 1], intensity=0.6)\n",
    "\n",
    "earth_geometry = p3.SphereGeometry(radius=1, widthSegments=64, heightSegments=64)\n",
    "earth_material = p3.MeshPhongMaterial(map=earth_texture)\n",
    "earth_mesh = p3.Mesh(geometry=earth_geometry, material=earth_material)\n",
    "earth_mesh.rotateZ(math.pi)\n",
    "\n",
    "scene.add(earth_mesh)\n",
    "scene.add(ambient_light)\n",
    "scene.add(directional_light)\n",
    "\n",
    "renderer = p3.Renderer(camera=camera, scene=scene, controls=[controls], width=800, height=600)\n",
    "display(VBox([renderer]))"
   ]
  },
  {
   "cell_type": "code",
   "execution_count": null,
   "metadata": {},
   "outputs": [],
   "source": []
  }
 ],
 "metadata": {
  "kernelspec": {
   "display_name": "env",
   "language": "python",
   "name": "python3"
  },
  "language_info": {
   "codemirror_mode": {
    "name": "ipython",
    "version": 3
   },
   "file_extension": ".py",
   "mimetype": "text/x-python",
   "name": "python",
   "nbconvert_exporter": "python",
   "pygments_lexer": "ipython3",
   "version": "3.12.7"
  }
 },
 "nbformat": 4,
 "nbformat_minor": 2
}
